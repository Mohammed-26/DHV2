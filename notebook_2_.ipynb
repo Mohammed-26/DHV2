{
  "nbformat": 4,
  "nbformat_minor": 0,
  "metadata": {
    "colab": {
      "provenance": [],
      "authorship_tag": "ABX9TyMn7D9IPnkpDT+7kMrKfKp2",
      "include_colab_link": true
    },
    "kernelspec": {
      "name": "python3",
      "display_name": "Python 3"
    },
    "language_info": {
      "name": "python"
    }
  },
  "cells": [
    {
      "cell_type": "markdown",
      "metadata": {
        "id": "view-in-github",
        "colab_type": "text"
      },
      "source": [
        "<a href=\"https://colab.research.google.com/github/Mohammed-26/DHV2/blob/main/notebook_2_.ipynb\" target=\"_parent\"><img src=\"https://colab.research.google.com/assets/colab-badge.svg\" alt=\"Open In Colab\"/></a>"
      ]
    },
    {
      "cell_type": "code",
      "execution_count": null,
      "metadata": {
        "id": "VofnnzqsdrLE"
      },
      "outputs": [],
      "source": []
    },
    {
      "cell_type": "code",
      "source": [
        "from google.colab import drive\n",
        "drive.mount('/content/drive')"
      ],
      "metadata": {
        "colab": {
          "base_uri": "https://localhost:8080/"
        },
        "id": "W2MEKgLteCiN",
        "outputId": "34a6c50e-304c-4de2-e099-dfb92ee91812"
      },
      "execution_count": null,
      "outputs": [
        {
          "output_type": "stream",
          "name": "stdout",
          "text": [
            "Drive already mounted at /content/drive; to attempt to forcibly remount, call drive.mount(\"/content/drive\", force_remount=True).\n"
          ]
        }
      ]
    },
    {
      "cell_type": "code",
      "source": [
        "import pandas as pd\n",
        "import numpy as np\n",
        "from functools import reduce"
      ],
      "metadata": {
        "id": "Rdhzsu8vfbg9"
      },
      "execution_count": null,
      "outputs": []
    },
    {
      "cell_type": "markdown",
      "source": [],
      "metadata": {
        "id": "ZdLvOVYPgrkr"
      }
    },
    {
      "cell_type": "code",
      "source": [
        "books=pd.read_csv(\"/content/drive/MyDrive/BL-Flickr-Images-Book (1).csv\")\n",
        "print(books.head())"
      ],
      "metadata": {
        "colab": {
          "base_uri": "https://localhost:8080/"
        },
        "id": "I99qdG82hHfN",
        "outputId": "382a1e75-9302-4bc7-cb75-02f6f04915ea"
      },
      "execution_count": null,
      "outputs": [
        {
          "output_type": "stream",
          "name": "stdout",
          "text": [
            "   Identifier             Edition Statement      Place of Publication  \\\n",
            "0         206                           NaN                    London   \n",
            "1         216                           NaN  London; Virtue & Yorston   \n",
            "2         218                           NaN                    London   \n",
            "3         472                           NaN                    London   \n",
            "4         480  A new edition, revised, etc.                    London   \n",
            "\n",
            "  Date of Publication              Publisher  \\\n",
            "0         1879 [1878]       S. Tinsley & Co.   \n",
            "1                1868           Virtue & Co.   \n",
            "2                1869  Bradbury, Evans & Co.   \n",
            "3                1851          James Darling   \n",
            "4                1857   Wertheim & Macintosh   \n",
            "\n",
            "                                               Title     Author  \\\n",
            "0                  Walter Forbes. [A novel.] By A. A      A. A.   \n",
            "1  All for Greed. [A novel. The dedication signed...  A., A. A.   \n",
            "2  Love the Avenger. By the author of “All for Gr...  A., A. A.   \n",
            "3  Welsh Sketches, chiefly ecclesiastical, to the...  A., E. S.   \n",
            "4  [The World in which I live, and my place in it...  A., E. S.   \n",
            "\n",
            "                                   Contributors  Corporate Author  \\\n",
            "0                               FORBES, Walter.               NaN   \n",
            "1  BLAZE DE BURY, Marie Pauline Rose - Baroness               NaN   \n",
            "2  BLAZE DE BURY, Marie Pauline Rose - Baroness               NaN   \n",
            "3                   Appleyard, Ernest Silvanus.               NaN   \n",
            "4                           BROOME, John Henry.               NaN   \n",
            "\n",
            "   Corporate Contributors Former owner  Engraver Issuance type  \\\n",
            "0                     NaN          NaN       NaN   monographic   \n",
            "1                     NaN          NaN       NaN   monographic   \n",
            "2                     NaN          NaN       NaN   monographic   \n",
            "3                     NaN          NaN       NaN   monographic   \n",
            "4                     NaN          NaN       NaN   monographic   \n",
            "\n",
            "                                          Flickr URL  \\\n",
            "0  http://www.flickr.com/photos/britishlibrary/ta...   \n",
            "1  http://www.flickr.com/photos/britishlibrary/ta...   \n",
            "2  http://www.flickr.com/photos/britishlibrary/ta...   \n",
            "3  http://www.flickr.com/photos/britishlibrary/ta...   \n",
            "4  http://www.flickr.com/photos/britishlibrary/ta...   \n",
            "\n",
            "                            Shelfmarks  \n",
            "0    British Library HMNTS 12641.b.30.  \n",
            "1    British Library HMNTS 12626.cc.2.  \n",
            "2    British Library HMNTS 12625.dd.1.  \n",
            "3  British Library HMNTS 10369.bbb.15.  \n",
            "4     British Library HMNTS 9007.d.28.  \n"
          ]
        }
      ]
    },
    {
      "cell_type": "code",
      "source": [
        "for col in books:\n",
        "  print(col)"
      ],
      "metadata": {
        "colab": {
          "base_uri": "https://localhost:8080/"
        },
        "id": "tTLwGW2-hirL",
        "outputId": "a50365a2-7610-4c90-cb41-74ce76b633b6"
      },
      "execution_count": null,
      "outputs": [
        {
          "output_type": "stream",
          "name": "stdout",
          "text": [
            "Identifier\n",
            "Edition Statement\n",
            "Place of Publication\n",
            "Date of Publication\n",
            "Publisher\n",
            "Title\n",
            "Author\n",
            "Contributors\n",
            "Corporate Author\n",
            "Corporate Contributors\n",
            "Former owner\n",
            "Engraver\n",
            "Issuance type\n",
            "Flickr URL\n",
            "Shelfmarks\n"
          ]
        }
      ]
    },
    {
      "cell_type": "code",
      "source": [
        "to_drop=[\"Edition Statement\",'Corporate Author','Corporate Contributors','Former owner','Engraver','Contributors','Issuance type','Shelfmarks']\n",
        "books.drop(to_drop,inplace=True,axis=1)\n",
        "books.head()"
      ],
      "metadata": {
        "colab": {
          "base_uri": "https://localhost:8080/",
          "height": 521
        },
        "id": "QMRsimRZh9ZI",
        "outputId": "c9a06c0d-33b0-4362-8995-7320fbe99ccd"
      },
      "execution_count": null,
      "outputs": [
        {
          "output_type": "execute_result",
          "data": {
            "text/plain": [
              "   Identifier      Place of Publication Date of Publication  \\\n",
              "0         206                    London         1879 [1878]   \n",
              "1         216  London; Virtue & Yorston                1868   \n",
              "2         218                    London                1869   \n",
              "3         472                    London                1851   \n",
              "4         480                    London                1857   \n",
              "\n",
              "               Publisher                                              Title  \\\n",
              "0       S. Tinsley & Co.                  Walter Forbes. [A novel.] By A. A   \n",
              "1           Virtue & Co.  All for Greed. [A novel. The dedication signed...   \n",
              "2  Bradbury, Evans & Co.  Love the Avenger. By the author of “All for Gr...   \n",
              "3          James Darling  Welsh Sketches, chiefly ecclesiastical, to the...   \n",
              "4   Wertheim & Macintosh  [The World in which I live, and my place in it...   \n",
              "\n",
              "      Author                                         Flickr URL  \n",
              "0      A. A.  http://www.flickr.com/photos/britishlibrary/ta...  \n",
              "1  A., A. A.  http://www.flickr.com/photos/britishlibrary/ta...  \n",
              "2  A., A. A.  http://www.flickr.com/photos/britishlibrary/ta...  \n",
              "3  A., E. S.  http://www.flickr.com/photos/britishlibrary/ta...  \n",
              "4  A., E. S.  http://www.flickr.com/photos/britishlibrary/ta...  "
            ],
            "text/html": [
              "\n",
              "  <div id=\"df-d67dbbbf-e1fe-4304-b611-52386d2f1695\" class=\"colab-df-container\">\n",
              "    <div>\n",
              "<style scoped>\n",
              "    .dataframe tbody tr th:only-of-type {\n",
              "        vertical-align: middle;\n",
              "    }\n",
              "\n",
              "    .dataframe tbody tr th {\n",
              "        vertical-align: top;\n",
              "    }\n",
              "\n",
              "    .dataframe thead th {\n",
              "        text-align: right;\n",
              "    }\n",
              "</style>\n",
              "<table border=\"1\" class=\"dataframe\">\n",
              "  <thead>\n",
              "    <tr style=\"text-align: right;\">\n",
              "      <th></th>\n",
              "      <th>Identifier</th>\n",
              "      <th>Place of Publication</th>\n",
              "      <th>Date of Publication</th>\n",
              "      <th>Publisher</th>\n",
              "      <th>Title</th>\n",
              "      <th>Author</th>\n",
              "      <th>Flickr URL</th>\n",
              "    </tr>\n",
              "  </thead>\n",
              "  <tbody>\n",
              "    <tr>\n",
              "      <th>0</th>\n",
              "      <td>206</td>\n",
              "      <td>London</td>\n",
              "      <td>1879 [1878]</td>\n",
              "      <td>S. Tinsley &amp; Co.</td>\n",
              "      <td>Walter Forbes. [A novel.] By A. A</td>\n",
              "      <td>A. A.</td>\n",
              "      <td>http://www.flickr.com/photos/britishlibrary/ta...</td>\n",
              "    </tr>\n",
              "    <tr>\n",
              "      <th>1</th>\n",
              "      <td>216</td>\n",
              "      <td>London; Virtue &amp; Yorston</td>\n",
              "      <td>1868</td>\n",
              "      <td>Virtue &amp; Co.</td>\n",
              "      <td>All for Greed. [A novel. The dedication signed...</td>\n",
              "      <td>A., A. A.</td>\n",
              "      <td>http://www.flickr.com/photos/britishlibrary/ta...</td>\n",
              "    </tr>\n",
              "    <tr>\n",
              "      <th>2</th>\n",
              "      <td>218</td>\n",
              "      <td>London</td>\n",
              "      <td>1869</td>\n",
              "      <td>Bradbury, Evans &amp; Co.</td>\n",
              "      <td>Love the Avenger. By the author of “All for Gr...</td>\n",
              "      <td>A., A. A.</td>\n",
              "      <td>http://www.flickr.com/photos/britishlibrary/ta...</td>\n",
              "    </tr>\n",
              "    <tr>\n",
              "      <th>3</th>\n",
              "      <td>472</td>\n",
              "      <td>London</td>\n",
              "      <td>1851</td>\n",
              "      <td>James Darling</td>\n",
              "      <td>Welsh Sketches, chiefly ecclesiastical, to the...</td>\n",
              "      <td>A., E. S.</td>\n",
              "      <td>http://www.flickr.com/photos/britishlibrary/ta...</td>\n",
              "    </tr>\n",
              "    <tr>\n",
              "      <th>4</th>\n",
              "      <td>480</td>\n",
              "      <td>London</td>\n",
              "      <td>1857</td>\n",
              "      <td>Wertheim &amp; Macintosh</td>\n",
              "      <td>[The World in which I live, and my place in it...</td>\n",
              "      <td>A., E. S.</td>\n",
              "      <td>http://www.flickr.com/photos/britishlibrary/ta...</td>\n",
              "    </tr>\n",
              "  </tbody>\n",
              "</table>\n",
              "</div>\n",
              "    <div class=\"colab-df-buttons\">\n",
              "\n",
              "  <div class=\"colab-df-container\">\n",
              "    <button class=\"colab-df-convert\" onclick=\"convertToInteractive('df-d67dbbbf-e1fe-4304-b611-52386d2f1695')\"\n",
              "            title=\"Convert this dataframe to an interactive table.\"\n",
              "            style=\"display:none;\">\n",
              "\n",
              "  <svg xmlns=\"http://www.w3.org/2000/svg\" height=\"24px\" viewBox=\"0 -960 960 960\">\n",
              "    <path d=\"M120-120v-720h720v720H120Zm60-500h600v-160H180v160Zm220 220h160v-160H400v160Zm0 220h160v-160H400v160ZM180-400h160v-160H180v160Zm440 0h160v-160H620v160ZM180-180h160v-160H180v160Zm440 0h160v-160H620v160Z\"/>\n",
              "  </svg>\n",
              "    </button>\n",
              "\n",
              "  <style>\n",
              "    .colab-df-container {\n",
              "      display:flex;\n",
              "      gap: 12px;\n",
              "    }\n",
              "\n",
              "    .colab-df-convert {\n",
              "      background-color: #E8F0FE;\n",
              "      border: none;\n",
              "      border-radius: 50%;\n",
              "      cursor: pointer;\n",
              "      display: none;\n",
              "      fill: #1967D2;\n",
              "      height: 32px;\n",
              "      padding: 0 0 0 0;\n",
              "      width: 32px;\n",
              "    }\n",
              "\n",
              "    .colab-df-convert:hover {\n",
              "      background-color: #E2EBFA;\n",
              "      box-shadow: 0px 1px 2px rgba(60, 64, 67, 0.3), 0px 1px 3px 1px rgba(60, 64, 67, 0.15);\n",
              "      fill: #174EA6;\n",
              "    }\n",
              "\n",
              "    .colab-df-buttons div {\n",
              "      margin-bottom: 4px;\n",
              "    }\n",
              "\n",
              "    [theme=dark] .colab-df-convert {\n",
              "      background-color: #3B4455;\n",
              "      fill: #D2E3FC;\n",
              "    }\n",
              "\n",
              "    [theme=dark] .colab-df-convert:hover {\n",
              "      background-color: #434B5C;\n",
              "      box-shadow: 0px 1px 3px 1px rgba(0, 0, 0, 0.15);\n",
              "      filter: drop-shadow(0px 1px 2px rgba(0, 0, 0, 0.3));\n",
              "      fill: #FFFFFF;\n",
              "    }\n",
              "  </style>\n",
              "\n",
              "    <script>\n",
              "      const buttonEl =\n",
              "        document.querySelector('#df-d67dbbbf-e1fe-4304-b611-52386d2f1695 button.colab-df-convert');\n",
              "      buttonEl.style.display =\n",
              "        google.colab.kernel.accessAllowed ? 'block' : 'none';\n",
              "\n",
              "      async function convertToInteractive(key) {\n",
              "        const element = document.querySelector('#df-d67dbbbf-e1fe-4304-b611-52386d2f1695');\n",
              "        const dataTable =\n",
              "          await google.colab.kernel.invokeFunction('convertToInteractive',\n",
              "                                                    [key], {});\n",
              "        if (!dataTable) return;\n",
              "\n",
              "        const docLinkHtml = 'Like what you see? Visit the ' +\n",
              "          '<a target=\"_blank\" href=https://colab.research.google.com/notebooks/data_table.ipynb>data table notebook</a>'\n",
              "          + ' to learn more about interactive tables.';\n",
              "        element.innerHTML = '';\n",
              "        dataTable['output_type'] = 'display_data';\n",
              "        await google.colab.output.renderOutput(dataTable, element);\n",
              "        const docLink = document.createElement('div');\n",
              "        docLink.innerHTML = docLinkHtml;\n",
              "        element.appendChild(docLink);\n",
              "      }\n",
              "    </script>\n",
              "  </div>\n",
              "\n",
              "\n",
              "<div id=\"df-84361dbb-ff43-4396-9f96-8a01174345bc\">\n",
              "  <button class=\"colab-df-quickchart\" onclick=\"quickchart('df-84361dbb-ff43-4396-9f96-8a01174345bc')\"\n",
              "            title=\"Suggest charts\"\n",
              "            style=\"display:none;\">\n",
              "\n",
              "<svg xmlns=\"http://www.w3.org/2000/svg\" height=\"24px\"viewBox=\"0 0 24 24\"\n",
              "     width=\"24px\">\n",
              "    <g>\n",
              "        <path d=\"M19 3H5c-1.1 0-2 .9-2 2v14c0 1.1.9 2 2 2h14c1.1 0 2-.9 2-2V5c0-1.1-.9-2-2-2zM9 17H7v-7h2v7zm4 0h-2V7h2v10zm4 0h-2v-4h2v4z\"/>\n",
              "    </g>\n",
              "</svg>\n",
              "  </button>\n",
              "\n",
              "<style>\n",
              "  .colab-df-quickchart {\n",
              "      --bg-color: #E8F0FE;\n",
              "      --fill-color: #1967D2;\n",
              "      --hover-bg-color: #E2EBFA;\n",
              "      --hover-fill-color: #174EA6;\n",
              "      --disabled-fill-color: #AAA;\n",
              "      --disabled-bg-color: #DDD;\n",
              "  }\n",
              "\n",
              "  [theme=dark] .colab-df-quickchart {\n",
              "      --bg-color: #3B4455;\n",
              "      --fill-color: #D2E3FC;\n",
              "      --hover-bg-color: #434B5C;\n",
              "      --hover-fill-color: #FFFFFF;\n",
              "      --disabled-bg-color: #3B4455;\n",
              "      --disabled-fill-color: #666;\n",
              "  }\n",
              "\n",
              "  .colab-df-quickchart {\n",
              "    background-color: var(--bg-color);\n",
              "    border: none;\n",
              "    border-radius: 50%;\n",
              "    cursor: pointer;\n",
              "    display: none;\n",
              "    fill: var(--fill-color);\n",
              "    height: 32px;\n",
              "    padding: 0;\n",
              "    width: 32px;\n",
              "  }\n",
              "\n",
              "  .colab-df-quickchart:hover {\n",
              "    background-color: var(--hover-bg-color);\n",
              "    box-shadow: 0 1px 2px rgba(60, 64, 67, 0.3), 0 1px 3px 1px rgba(60, 64, 67, 0.15);\n",
              "    fill: var(--button-hover-fill-color);\n",
              "  }\n",
              "\n",
              "  .colab-df-quickchart-complete:disabled,\n",
              "  .colab-df-quickchart-complete:disabled:hover {\n",
              "    background-color: var(--disabled-bg-color);\n",
              "    fill: var(--disabled-fill-color);\n",
              "    box-shadow: none;\n",
              "  }\n",
              "\n",
              "  .colab-df-spinner {\n",
              "    border: 2px solid var(--fill-color);\n",
              "    border-color: transparent;\n",
              "    border-bottom-color: var(--fill-color);\n",
              "    animation:\n",
              "      spin 1s steps(1) infinite;\n",
              "  }\n",
              "\n",
              "  @keyframes spin {\n",
              "    0% {\n",
              "      border-color: transparent;\n",
              "      border-bottom-color: var(--fill-color);\n",
              "      border-left-color: var(--fill-color);\n",
              "    }\n",
              "    20% {\n",
              "      border-color: transparent;\n",
              "      border-left-color: var(--fill-color);\n",
              "      border-top-color: var(--fill-color);\n",
              "    }\n",
              "    30% {\n",
              "      border-color: transparent;\n",
              "      border-left-color: var(--fill-color);\n",
              "      border-top-color: var(--fill-color);\n",
              "      border-right-color: var(--fill-color);\n",
              "    }\n",
              "    40% {\n",
              "      border-color: transparent;\n",
              "      border-right-color: var(--fill-color);\n",
              "      border-top-color: var(--fill-color);\n",
              "    }\n",
              "    60% {\n",
              "      border-color: transparent;\n",
              "      border-right-color: var(--fill-color);\n",
              "    }\n",
              "    80% {\n",
              "      border-color: transparent;\n",
              "      border-right-color: var(--fill-color);\n",
              "      border-bottom-color: var(--fill-color);\n",
              "    }\n",
              "    90% {\n",
              "      border-color: transparent;\n",
              "      border-bottom-color: var(--fill-color);\n",
              "    }\n",
              "  }\n",
              "</style>\n",
              "\n",
              "  <script>\n",
              "    async function quickchart(key) {\n",
              "      const quickchartButtonEl =\n",
              "        document.querySelector('#' + key + ' button');\n",
              "      quickchartButtonEl.disabled = true;  // To prevent multiple clicks.\n",
              "      quickchartButtonEl.classList.add('colab-df-spinner');\n",
              "      try {\n",
              "        const charts = await google.colab.kernel.invokeFunction(\n",
              "            'suggestCharts', [key], {});\n",
              "      } catch (error) {\n",
              "        console.error('Error during call to suggestCharts:', error);\n",
              "      }\n",
              "      quickchartButtonEl.classList.remove('colab-df-spinner');\n",
              "      quickchartButtonEl.classList.add('colab-df-quickchart-complete');\n",
              "    }\n",
              "    (() => {\n",
              "      let quickchartButtonEl =\n",
              "        document.querySelector('#df-84361dbb-ff43-4396-9f96-8a01174345bc button');\n",
              "      quickchartButtonEl.style.display =\n",
              "        google.colab.kernel.accessAllowed ? 'block' : 'none';\n",
              "    })();\n",
              "  </script>\n",
              "</div>\n",
              "    </div>\n",
              "  </div>\n"
            ],
            "application/vnd.google.colaboratory.intrinsic+json": {
              "type": "dataframe",
              "variable_name": "books",
              "summary": "{\n  \"name\": \"books\",\n  \"rows\": 8287,\n  \"fields\": [\n    {\n      \"column\": \"Identifier\",\n      \"properties\": {\n        \"dtype\": \"number\",\n        \"std\": 1190379,\n        \"min\": 206,\n        \"max\": 4160339,\n        \"samples\": [\n          2202091,\n          2778816,\n          4002177\n        ],\n        \"num_unique_values\": 8287,\n        \"semantic_type\": \"\",\n        \"description\": \"\"\n      }\n    },\n    {\n      \"column\": \"Place of Publication\",\n      \"properties\": {\n        \"dtype\": \"category\",\n        \"samples\": [\n          \"Springfield, O\",\n          \"Warwick, 1877\",\n          \"Sheffield\"\n        ],\n        \"num_unique_values\": 1441,\n        \"semantic_type\": \"\",\n        \"description\": \"\"\n      }\n    },\n    {\n      \"column\": \"Date of Publication\",\n      \"properties\": {\n        \"dtype\": \"category\",\n        \"samples\": [\n          \"1872, 73\",\n          \"1853-58\",\n          \"[1896-98]\"\n        ],\n        \"num_unique_values\": 1148,\n        \"semantic_type\": \"\",\n        \"description\": \"\"\n      }\n    },\n    {\n      \"column\": \"Publisher\",\n      \"properties\": {\n        \"dtype\": \"category\",\n        \"samples\": [\n          \"J. G. Gregory\",\n          \"T. Hurst, E. Chance & Co.\",\n          \"A. J. Hall & Co.\"\n        ],\n        \"num_unique_values\": 1989,\n        \"semantic_type\": \"\",\n        \"description\": \"\"\n      }\n    },\n    {\n      \"column\": \"Title\",\n      \"properties\": {\n        \"dtype\": \"string\",\n        \"samples\": [\n          \"A Daughter of the Druids. [A novel.] By A. K. H[opkins]\",\n          \"Relations de la Normandie et de la Bretagne avec les i\\u0302les de la Manche pendant l'e\\u0301migration, d'apre\\u0300s des documents recueillis par ... S. E. Hoskins\",\n          \"A History, topographical, arch\\u00e6ological, genealogical, and biographical, of the parishes of West and East Bradenham, with those of Necton and Holme Hale, in the County of Norfolk ... With an introduction by ... A. Jessopp ... With illustrations\"\n        ],\n        \"num_unique_values\": 8210,\n        \"semantic_type\": \"\",\n        \"description\": \"\"\n      }\n    },\n    {\n      \"column\": \"Author\",\n      \"properties\": {\n        \"dtype\": \"string\",\n        \"samples\": [\n          \"PROCTER, Adelaide Anne.\",\n          \"MURAV'EV, Nikolai Nikolaevich - Count, General\",\n          \"Tasso, Torquato\"\n        ],\n        \"num_unique_values\": 5005,\n        \"semantic_type\": \"\",\n        \"description\": \"\"\n      }\n    },\n    {\n      \"column\": \"Flickr URL\",\n      \"properties\": {\n        \"dtype\": \"string\",\n        \"samples\": [\n          \"http://www.flickr.com/photos/britishlibrary/tags/sysnum002202091\",\n          \"http://www.flickr.com/photos/britishlibrary/tags/sysnum002778816\",\n          \"http://www.flickr.com/photos/britishlibrary/tags/sysnum004002177\"\n        ],\n        \"num_unique_values\": 8287,\n        \"semantic_type\": \"\",\n        \"description\": \"\"\n      }\n    }\n  ]\n}"
            }
          },
          "metadata": {},
          "execution_count": 11
        }
      ]
    },
    {
      "cell_type": "code",
      "source": [
        "from collections import UserList\n",
        "for col in books.columns:\n",
        "  print(col)\n",
        "  Identifier\n",
        "  Place of Publication\n",
        "  Date of Publication\n",
        "  Publisher\n",
        "  Title\n",
        "  Author\n",
        "  Flickr URL\n",
        "  books.set_index('Identifier')"
      ],
      "metadata": {
        "id": "S6VKqyskjs_k",
        "colab": {
          "base_uri": "https://localhost:8080/",
          "height": 106
        },
        "outputId": "c2ff3e41-b12d-48c2-af92-dab709ab35e4"
      },
      "execution_count": null,
      "outputs": [
        {
          "output_type": "error",
          "ename": "SyntaxError",
          "evalue": "invalid syntax (<ipython-input-12-ac714313971f>, line 5)",
          "traceback": [
            "\u001b[0;36m  File \u001b[0;32m\"<ipython-input-12-ac714313971f>\"\u001b[0;36m, line \u001b[0;32m5\u001b[0m\n\u001b[0;31m    Place of Publication\u001b[0m\n\u001b[0m          ^\u001b[0m\n\u001b[0;31mSyntaxError\u001b[0m\u001b[0;31m:\u001b[0m invalid syntax\n"
          ]
        }
      ]
    },
    {
      "cell_type": "code",
      "source": [
        "def clean_dates(item): dop= str(item.loc['Date of Publication'])\n",
        "\n",
        "if dop == 'nan' or dop[0] == '[': return np. NaN\n",
        "\n",
        "for character in unwanted_characters: if character in dop: character_index = dop.find(character) dop dop[:character_index]\n",
        "\n",
        "return dop\n",
        "\n",
        "df['Date of Publication'] = df.apply(clean_dates, axis = 1)"
      ],
      "metadata": {
        "colab": {
          "base_uri": "https://localhost:8080/",
          "height": 124
        },
        "id": "pRBWV_pcqGuV",
        "outputId": "e0accf0c-5179-4731-e19e-175bdc33d40c"
      },
      "execution_count": null,
      "outputs": [
        {
          "output_type": "error",
          "ename": "SyntaxError",
          "evalue": "invalid syntax (<ipython-input-13-b0dbace4aae7>, line 5)",
          "traceback": [
            "\u001b[0;36m  File \u001b[0;32m\"<ipython-input-13-b0dbace4aae7>\"\u001b[0;36m, line \u001b[0;32m5\u001b[0m\n\u001b[0;31m    for character in unwanted_characters: if character in dop: character_index = dop.find(character) dop dop[:character_index]\u001b[0m\n\u001b[0m                                          ^\u001b[0m\n\u001b[0;31mSyntaxError\u001b[0m\u001b[0;31m:\u001b[0m invalid syntax\n"
          ]
        }
      ]
    }
  ]
}