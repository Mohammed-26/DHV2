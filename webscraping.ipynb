{
  "nbformat": 4,
  "nbformat_minor": 0,
  "metadata": {
    "colab": {
      "provenance": [],
      "authorship_tag": "ABX9TyOnTgLDPi4O5u08mxD1AZVx",
      "include_colab_link": true
    },
    "kernelspec": {
      "name": "python3",
      "display_name": "Python 3"
    },
    "language_info": {
      "name": "python"
    }
  },
  "cells": [
    {
      "cell_type": "markdown",
      "metadata": {
        "id": "view-in-github",
        "colab_type": "text"
      },
      "source": [
        "<a href=\"https://colab.research.google.com/github/Mohammed-26/DHV2/blob/main/webscraping.ipynb\" target=\"_parent\"><img src=\"https://colab.research.google.com/assets/colab-badge.svg\" alt=\"Open In Colab\"/></a>"
      ]
    },
    {
      "cell_type": "code",
      "execution_count": null,
      "metadata": {
        "colab": {
          "base_uri": "https://localhost:8080/"
        },
        "id": "0ZOtNlXCrgiK",
        "outputId": "93c3089b-584c-401f-adbe-e641e5eba04f"
      },
      "outputs": [
        {
          "output_type": "stream",
          "name": "stdout",
          "text": [
            "Latest Article Titles:\n"
          ]
        }
      ],
      "source": [
        "# Importing necessary libraries\n",
        "import requests\n",
        "from bs4 import BeautifulSoup\n",
        "\n",
        "# URL of the webpage to scrape\n",
        "url = 'https://openai.com/blog/'\n",
        "\n",
        "# Sending a GET request to the URL\n",
        "response = requests.get(url)\n",
        "\n",
        "# Parsing the HTML content of the page\n",
        "soup = BeautifulSoup(response.content, 'html.parser')\n",
        "\n",
        "# Finding all the titles of the latest articles\n",
        "article_titles = soup.find_all('h3', class_='sc-htoDjs dzgIff')\n",
        "\n",
        "# Extracting and printing the titles\n",
        "print(\"Latest Article Titles:\")\n",
        "for title in article_titles:\n",
        "    print(title.text.strip())\n"
      ]
    },
    {
      "cell_type": "code",
      "source": [
        "# Importing necessary libraries\n",
        "import requests\n",
        "from bs4 import BeautifulSoup\n",
        "\n",
        "# URL of the webpage to scrape\n",
        "url =\n",
        "\n",
        "# Sending a GET request to the URL\n",
        "response = requests.get(url)\n",
        "\n",
        "# Parsing the HTML content of the page\n",
        "soup = BeautifulSoup(response.content, 'html.parser')\n",
        "\n",
        "# Finding all the titles of the latest articles\n",
        "article_titles = soup.find_all('h3', class_='sc-htoDjs dzgIff')\n",
        "\n",
        "# Extracting and printing the titles\n",
        "print(\"Latest Article Titles:\")\n",
        "for title in article_titles:\n",
        "    print(title.text.strip())\n"
      ],
      "metadata": {
        "colab": {
          "base_uri": "https://localhost:8080/"
        },
        "id": "VYorCvL6rm2y",
        "outputId": "7d593588-8636-4906-847b-28266cf1e671"
      },
      "execution_count": null,
      "outputs": [
        {
          "output_type": "stream",
          "name": "stdout",
          "text": [
            "Latest Article Titles:\n"
          ]
        }
      ]
    }
  ]
}